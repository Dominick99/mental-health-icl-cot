{
  "nbformat": 4,
  "nbformat_minor": 0,
  "metadata": {
    "colab": {
      "provenance": []
    },
    "kernelspec": {
      "name": "python3",
      "display_name": "Python 3"
    },
    "language_info": {
      "name": "python"
    }
  },
  "cells": [
    {
      "cell_type": "markdown",
      "source": [
        "# Import OpenAI Key\n",
        "\n",
        "Here, we securely import the OpenAI API key. The `getpass` function is used so the key is hidden when entered.  \n",
        "We store the key in an environment variable and then retrieve it to initialize the OpenAI API client."
      ],
      "metadata": {
        "id": "53APc7ZKB03y"
      }
    },
    {
      "cell_type": "code",
      "source": [
        "import os\n",
        "from getpass import getpass\n",
        "\n",
        "# This way the key is hidden when typed\n",
        "os.environ[\"OPENAI_API_KEY\"] = getpass(\"Enter your OpenAI API key: \")"
      ],
      "metadata": {
        "id": "O6fg2srhLexo"
      },
      "execution_count": 1,
      "outputs": []
    },
    {
      "cell_type": "code",
      "source": [
        "import openai\n",
        "\n",
        "api_key = os.getenv(\"OPENAI_API_KEY\")\n",
        "if not api_key:\n",
        "    raise ValueError(\"API key not found. Please set OPENAI_API_KEY environment variable.\")\n",
        "\n",
        "client = openai.OpenAI(api_key=api_key)"
      ],
      "metadata": {
        "id": "Hru2F5wOAu6i"
      },
      "execution_count": null,
      "outputs": []
    },
    {
      "cell_type": "markdown",
      "source": [
        "# Run Prompts Through ChatGPT in Batches\n",
        "\n",
        "This function takes a base message template and a list of prompts, then sends each prompt through ChatGPT as an independent session.\n",
        "\n",
        "- `deepcopy` ensures we don't modify the original message template.\n",
        "- Each prompt replaces the last user message in the template.\n",
        "- The function calls the OpenAI API with the updated message history.\n",
        "- If an error occurs (e.g., rate limit or malformed prompt), it prints the error and adds \"ERROR\" to the results.\n",
        "- It returns a list of model-generated responses, one per prompt.\n"
      ],
      "metadata": {
        "id": "BcRAOjmcB9dZ"
      }
    },
    {
      "cell_type": "code",
      "execution_count": 3,
      "metadata": {
        "id": "zmuUCOn6LciC"
      },
      "outputs": [],
      "source": [
        "from copy import deepcopy\n",
        "from openai import OpenAIError\n",
        "\n",
        "def run_batch_messages_with_prompts(base_messages, prompts, model=\"gpt-4o-mini\", temperature=0.0):\n",
        "    responses = []\n",
        "\n",
        "    for prompt in prompts:\n",
        "        messages = deepcopy(base_messages)\n",
        "\n",
        "        if messages[-1]['role'] == 'user':\n",
        "            messages[-1]['content'] = prompt\n",
        "        else:\n",
        "            messages.append({\"role\": \"user\", \"content\": prompt})\n",
        "\n",
        "        try:\n",
        "            completion = client.chat.completions.create(\n",
        "                model=model,\n",
        "                messages=messages,\n",
        "                temperature=temperature\n",
        "            )\n",
        "            reply = completion.choices[0].message.content.strip()\n",
        "            responses.append(reply)\n",
        "        except OpenAIError as e:\n",
        "            print(f\"Error with prompt: {prompt[:50]}... -> {e}\")\n",
        "            responses.append(\"ERROR\")\n",
        "\n",
        "    return responses"
      ]
    },
    {
      "cell_type": "markdown",
      "source": [
        "# Basic Classification Prompt (Single Example)\n",
        "\n",
        "This prompt sets up a simple few-shot classification task for ChatGPT.\n",
        "\n",
        "- The **system message** instructs the model to classify a short mental health-related text into one of 7 categories.\n",
        "- The **user message** provides a sample input text that describes symptoms of depression.\n",
        "- The **assistant message** shows the correct label, wrapped in `<answer>` tags, as expected in the output format.\n",
        "- The final **user message** is a placeholder (`STATEMENT_GOES_HERE`) that will be replaced with actual input during evaluation.\n",
        "\n",
        "This prompt teaches the model what kind of task it's doing, the output format, and gives it one labeled example to follow.\n"
      ],
      "metadata": {
        "id": "BF-ZYT7cCIrH"
      }
    },
    {
      "cell_type": "code",
      "source": [
        "base_messages = [\n",
        "    {\n",
        "        \"role\": \"system\",\n",
        "        \"content\": (\n",
        "            \"You are a mental health classification assistant. \"\n",
        "            \"Given a short piece of text, your job is to classify it into one of the following mental health categories:\\n\\n\"\n",
        "            \"Normal, Depression, Suicidal, Anxiety, Stress, Bipolar, Personality disorder.\\n\\n\"\n",
        "            \"Respond only with the predicted class, wrapped in <answer> tags. Do not explain your reasoning.\"\n",
        "        )\n",
        "    },\n",
        "    {\n",
        "        \"role\": \"user\",\n",
        "        \"content\": (\n",
        "            \"I haven’t felt like myself in months. I can’t sleep, I can’t eat, and I cry almost every day.\"\n",
        "        )\n",
        "    },\n",
        "    {\n",
        "        \"role\": \"assistant\",\n",
        "        \"content\": \"<answer>Depression</answer>\"\n",
        "    },\n",
        "    {\n",
        "        \"role\": \"user\",\n",
        "        \"content\": \"STATEMENT_GOES_HERE\"\n",
        "    }\n",
        "]"
      ],
      "metadata": {
        "id": "J0zEozTBYM6N"
      },
      "execution_count": 4,
      "outputs": []
    },
    {
      "cell_type": "markdown",
      "source": [
        "# Chain-of-Thought (CoT) Classification Prompt\n",
        "\n",
        "This prompt uses a Chain-of-Thought (CoT) format to help the model reason more effectively before making a classification.\n",
        "\n",
        "- The **system message** instructs the model to first explain its reasoning by quoting relevant parts of the input, then provide a label wrapped in `<answer>` tags.\n",
        "- The prompt includes one example for each of the 7 mental health categories: Normal, Depression, Suicidal, Anxiety, Stress, Bipolar, and Personality disorder.\n",
        "- Each **user message** provides a sample input, and each **assistant message** explains the reasoning followed by the correct label.\n",
        "- The final **user message** is a placeholder where the actual input will be inserted during evaluation.\n",
        "\n",
        "This format encourages the model to be more thoughtful and transparent in its decision-making, which can improve accuracy—especially for nuanced or overlapping mental health conditions.\n"
      ],
      "metadata": {
        "id": "5G2-C6ICCUeq"
      }
    },
    {
      "cell_type": "code",
      "source": [
        "base_messages_CoT = [\n",
        "    {\n",
        "        \"role\": \"system\",\n",
        "        \"content\": (\n",
        "            \"You are a mental health classification assistant. \"\n",
        "            \"Given a short piece of text, your job is to classify it into one of the following mental health categories:\\n\\n\"\n",
        "            \"Normal, Depression, Suicidal, Anxiety, Stress, Bipolar, Personality disorder.\\n\\n\"\n",
        "            \"First, briefly explain your reasoning by quoting relevant parts of the input. \"\n",
        "            \"Then, on a new line, respond with the predicted class, wrapped in <answer> tags.\"\n",
        "        )\n",
        "    },\n",
        "    # --- Normal ---\n",
        "    {\n",
        "        \"role\": \"user\",\n",
        "        \"content\": \"I'm feeling fine, just a bit tired after work. Nothing really bothering me today.\"\n",
        "    },\n",
        "    {\n",
        "        \"role\": \"assistant\",\n",
        "        \"content\": (\n",
        "            \"The statement says 'I'm feeling fine' and 'Nothing really bothering me today', which indicates no signs of mental health distress.\\n\"\n",
        "            \"<answer>Normal</answer>\"\n",
        "        )\n",
        "    },\n",
        "    # --- Depression ---\n",
        "    {\n",
        "        \"role\": \"user\",\n",
        "        \"content\": \"I haven’t felt like myself in months. I can’t sleep, I can’t eat, and I cry almost every day.\"\n",
        "    },\n",
        "    {\n",
        "        \"role\": \"assistant\",\n",
        "        \"content\": (\n",
        "            \"The user reports prolonged negative symptoms like 'I can’t sleep', 'I can’t eat', and 'cry almost every day', which are classic indicators of depression.\\n\"\n",
        "            \"<answer>Depression</answer>\"\n",
        "        )\n",
        "    },\n",
        "    # --- Suicidal ---\n",
        "    {\n",
        "        \"role\": \"user\",\n",
        "        \"content\": \"I don’t want to live anymore. I’m tired of pretending everything is okay.\"\n",
        "    },\n",
        "    {\n",
        "        \"role\": \"assistant\",\n",
        "        \"content\": (\n",
        "            \"The phrase 'I don’t want to live anymore' clearly indicates suicidal ideation.\\n\"\n",
        "            \"<answer>Suicidal</answer>\"\n",
        "        )\n",
        "    },\n",
        "    # --- Anxiety ---\n",
        "    {\n",
        "        \"role\": \"user\",\n",
        "        \"content\": \"My heart races constantly and I worry about everything. Even small tasks feel overwhelming.\"\n",
        "    },\n",
        "    {\n",
        "        \"role\": \"assistant\",\n",
        "        \"content\": (\n",
        "            \"The user says 'my heart races constantly' and 'I worry about everything', which are strong indicators of anxiety.\\n\"\n",
        "            \"<answer>Anxiety</answer>\"\n",
        "        )\n",
        "    },\n",
        "    # --- Stress ---\n",
        "    {\n",
        "        \"role\": \"user\",\n",
        "        \"content\": \"Work has been insane lately. Deadlines, meetings, and barely any sleep.\"\n",
        "    },\n",
        "    {\n",
        "        \"role\": \"assistant\",\n",
        "        \"content\": (\n",
        "            \"The statement reflects situational overwhelm with 'Deadlines, meetings, and barely any sleep', which points to stress.\\n\"\n",
        "            \"<answer>Stress</answer>\"\n",
        "        )\n",
        "    },\n",
        "    # --- Bipolar ---\n",
        "    {\n",
        "        \"role\": \"user\",\n",
        "        \"content\": \"Some days I feel unstoppable, like I can do anything. Other days I can’t get out of bed.\"\n",
        "    },\n",
        "    {\n",
        "        \"role\": \"assistant\",\n",
        "        \"content\": (\n",
        "            \"The alternating mood between 'unstoppable' and 'can’t get out of bed' suggests mood swings typical of bipolar disorder.\\n\"\n",
        "            \"<answer>Bipolar</answer>\"\n",
        "        )\n",
        "    },\n",
        "    # --- Personality disorder ---\n",
        "    {\n",
        "        \"role\": \"user\",\n",
        "        \"content\": \"I push people away even though I want them close. I don't know who I really am.\"\n",
        "    },\n",
        "    {\n",
        "        \"role\": \"assistant\",\n",
        "        \"content\": (\n",
        "            \"The statement 'I push people away even though I want them close' and 'I don't know who I really am' reflect identity disturbance and interpersonal struggles, which are hallmarks of personality disorders.\\n\"\n",
        "            \"<answer>Personality disorder</answer>\"\n",
        "        )\n",
        "    },\n",
        "    # --- The actual input prompt ---\n",
        "    {\n",
        "        \"role\": \"user\",\n",
        "        \"content\": \"STATEMENT_GOES_HERE\"\n",
        "    }\n",
        "]\n"
      ],
      "metadata": {
        "id": "XgF5Cvfhhkuj"
      },
      "execution_count": 5,
      "outputs": []
    },
    {
      "cell_type": "markdown",
      "source": [
        "# Targeted Stress Classification Prompt (with Contrastive Reasoning)\n",
        "\n",
        "This prompt is designed to help the model better recognize and distinguish the \"Stress\" label.\n",
        "\n",
        "- The **system message** includes clear, concise definitions of all 7 mental health categories, with extra emphasis on what distinguishes Stress from others.\n",
        "- The **user message** describes a realistic situation involving work-related pressure and physical tension — symptoms consistent with Stress.\n",
        "- The **assistant message** uses Chain-of-Thought reasoning to justify the \"Stress\" label using direct quotes, and then explicitly explains why each of the other 6 categories does not apply.\n",
        "- The final label is wrapped in `<answer>` tags for consistency with the rest of the evaluation pipeline.\n",
        "\n",
        "This format is intended to teach the model a deeper understanding of Stress by showing not just why it fits, but why other conditions do not — helping reduce false positives and confusion with overlapping categories like Anxiety or Depression.\n"
      ],
      "metadata": {
        "id": "iaGod3fTCoS3"
      }
    },
    {
      "cell_type": "code",
      "source": [
        "base_messages_stress_example = [\n",
        "    {\n",
        "        \"role\": \"system\",\n",
        "        \"content\": (\n",
        "            \"You are a mental health classification assistant. \"\n",
        "            \"Given a short statement, your task is to classify it into one or more of the following categories:\\n\\n\"\n",
        "            \"Normal: The person does not express any significant distress, mental illness, or dysfunction.\\n\"\n",
        "            \"Depression: Persistent sadness, hopelessness, lack of motivation, low energy, or loss of interest in life.\\n\"\n",
        "            \"Suicidal: Expressing desire or intent to harm oneself or end one's life.\\n\"\n",
        "            \"Anxiety: Excessive worry, fear, or physiological symptoms like a racing heart, restlessness, or panic.\\n\"\n",
        "            \"Stress: A response to external pressures or demands, often situational (e.g., deadlines, workload), usually without deeper psychological symptoms.\\n\"\n",
        "            \"Bipolar: Mood swings including both depressive episodes and periods of elevated or irritable mood (mania/hypomania).\\n\"\n",
        "            \"Personality disorder: Persistent patterns of unstable emotions, distorted self-image, and difficulty in interpersonal relationships.\\n\\n\"\n",
        "            \"Respond by quoting key parts of the statement to justify the correct label. If applicable, explain why other labels do not fit. \"\n",
        "            \"Conclude with your final label wrapped in <answer> tags.\"\n",
        "        )\n",
        "    },\n",
        "    {\n",
        "        \"role\": \"user\",\n",
        "        \"content\": (\n",
        "            \"I’ve been buried in deadlines all week. My manager keeps piling more on me. \"\n",
        "            \"I haven’t been sleeping well and I feel tense all the time, but I know I just have to get through this project.\"\n",
        "        )\n",
        "    },\n",
        "    {\n",
        "        \"role\": \"assistant\",\n",
        "        \"content\": (\n",
        "            \"The statement mentions being 'buried in deadlines all week' and a manager 'piling more on', which indicates external pressures. \"\n",
        "            \"The person says they 'haven’t been sleeping well' and 'feel tense all the time', which are physical and emotional signs of strain.\\n\\n\"\n",
        "            \"This aligns with the definition of **Stress**: a response to situational pressures like workload, without signs of deeper psychological conditions.\\n\\n\"\n",
        "            \"- **Not Depression**: There’s no mention of hopelessness, sadness, or lack of motivation.\\n\"\n",
        "            \"- **Not Suicidal**: The person expresses no desire or intent to harm themselves.\\n\"\n",
        "            \"- **Not Anxiety**: While they feel tense, there is no mention of excessive fear or uncontrollable worry.\\n\"\n",
        "            \"- **Not Bipolar**: There are no mood swings or episodes of high energy.\\n\"\n",
        "            \"- **Not Personality disorder**: There are no signs of unstable identity or relationship difficulties.\\n\"\n",
        "            \"- **Not Normal**: The person is clearly distressed by workload and sleep disruption, so this isn't a neutral or unaffected state.\\n\\n\"\n",
        "            \"<answer>Stress</answer>\"\n",
        "        )\n",
        "    },\n",
        "    {\n",
        "        \"role\": \"user\",\n",
        "        \"content\": \"STATEMENT_GOES_HERE\"\n",
        "    }\n",
        "]\n"
      ],
      "metadata": {
        "id": "BrRt8Ml9mBH_"
      },
      "execution_count": 20,
      "outputs": []
    },
    {
      "cell_type": "markdown",
      "source": [
        "# Patrick Bateman Example\n",
        "\n",
        "This example demonstrates how the model uses in-context learning and chain-of-thought (CoT) reasoning\n",
        "to analyze a monologue from *American Psycho*. By quoting relevant parts of the text and eliminating\n",
        "other possibilities, the model correctly identifies **Personality disorder** as the most fitting label.\n"
      ],
      "metadata": {
        "id": "rryWJDp3axj9"
      }
    },
    {
      "cell_type": "code",
      "source": [
        "import textwrap\n",
        "\n",
        "# Patrick Bateman monologue prompt\n",
        "prompt = (\n",
        "    \"My name is Patrick Bateman. I’m 27 years old. I believe in taking care of myself, and a balanced diet and a rigorous exercise routine.\\n\"\n",
        "    \"In the morning, if my face is a little puffy, I’ll put on an ice pack while doing my stomach crunches. I can do a thousand now.\\n\"\n",
        "    \"After I remove the ice pack I use a deep pore cleanser lotion. In the shower I use a water activated gel cleanser,\\n\"\n",
        "    \"then a honey almond body scrub, and on the face an exfoliating gel scrub.\\n\"\n",
        "    \"Then I apply an herb-mint facial masque which I leave on for 10 minutes while I prepare the rest of my routine.\\n\"\n",
        "    \"I always use an after shave lotion with little or no alcohol, because alcohol dries your face out and makes you look older.\\n\"\n",
        "    \"Then moisturizer, then an anti-aging eye balm followed by a final moisturizing protective lotion.\"\n",
        ")\n",
        "\n",
        "# Run it through existing function\n",
        "response = run_batch_messages_with_prompts(base_messages_CoT, [prompt])[0]\n",
        "\n",
        "# Print the entire conversation\n",
        "print(\"=== Conversation ===\\n\")\n",
        "\n",
        "# Print the inserted prompt\n",
        "print(\"User:\", prompt, \"\\n\")\n",
        "\n",
        "# Wrap the assistant output to 100 characters per line\n",
        "print(\"Assistant:\\n\" + textwrap.fill(response, width=100))\n"
      ],
      "metadata": {
        "colab": {
          "base_uri": "https://localhost:8080/"
        },
        "id": "awEQUlQLWRIw",
        "outputId": "fd7297eb-d982-4ac0-ea4c-93bd8db01f01"
      },
      "execution_count": 35,
      "outputs": [
        {
          "output_type": "stream",
          "name": "stdout",
          "text": [
            "=== Conversation ===\n",
            "\n",
            "User: My name is Patrick Bateman. I’m 27 years old. I believe in taking care of myself, and a balanced diet and a rigorous exercise routine.\n",
            "In the morning, if my face is a little puffy, I’ll put on an ice pack while doing my stomach crunches. I can do a thousand now.\n",
            "After I remove the ice pack I use a deep pore cleanser lotion. In the shower I use a water activated gel cleanser,\n",
            "then a honey almond body scrub, and on the face an exfoliating gel scrub.\n",
            "Then I apply an herb-mint facial masque which I leave on for 10 minutes while I prepare the rest of my routine.\n",
            "I always use an after shave lotion with little or no alcohol, because alcohol dries your face out and makes you look older.\n",
            "Then moisturizer, then an anti-aging eye balm followed by a final moisturizing protective lotion. \n",
            "\n",
            "Assistant:\n",
            "The text reflects an excessive focus on appearance and self-care routines, which can indicate traits\n",
            "associated with narcissistic personality disorder. The meticulous detailing of grooming and the\n",
            "emphasis on physical perfection suggest a preoccupation with self-image and possibly a lack of\n",
            "empathy for others, which are common in personality disorders.  <answer>Personality\n",
            "disorder</answer>\n"
          ]
        }
      ]
    },
    {
      "cell_type": "markdown",
      "source": [
        "# Load and Prepare Mental Health Dataset\n",
        "\n",
        "This section handles downloading, processing, and loading a sample of the mental health dataset for evaluation.\n",
        "\n",
        "- We use `kagglehub` to download the dataset from Kaggle and move it to a working directory in Colab.\n",
        "- The dataset is read using `pandas`, and we display all the unique labels in the `status` column.\n",
        "- We randomly sample 100 examples to create a manageable subset for testing and save it to a CSV file.\n",
        "- A custom PyTorch `Dataset` class (`MentalHealthDataset`) is defined to load the sample data.\n",
        "- Finally, we create a `DataLoader` to batch the data during evaluation.\n",
        "\n",
        "This setup allows us to feed real mental health statements and their labels into our classification pipeline for testing and analysis.\n"
      ],
      "metadata": {
        "id": "e1RWYlP4DLkE"
      }
    },
    {
      "cell_type": "code",
      "source": [
        "import kagglehub\n",
        "import shutil\n",
        "import os\n",
        "\n",
        "# Download dataset (goes to ~/.cache/kagglehub by default)\n",
        "path = kagglehub.dataset_download(\"suchintikasarkar/sentiment-analysis-for-mental-health\")\n",
        "\n",
        "# Define where you want to move it\n",
        "destination = \"/content/mental_health_dataset\"\n",
        "\n",
        "# Move the dataset to /content\n",
        "if not os.path.exists(destination):\n",
        "    shutil.copytree(path, destination)\n",
        "\n",
        "print(\"Moved dataset to:\", destination)"
      ],
      "metadata": {
        "colab": {
          "base_uri": "https://localhost:8080/"
        },
        "id": "LwGRPIeFYSUM",
        "outputId": "e1e03b77-9992-4354-eac1-9b02af1187e0"
      },
      "execution_count": 7,
      "outputs": [
        {
          "output_type": "stream",
          "name": "stdout",
          "text": [
            "Moved dataset to: /content/mental_health_dataset\n"
          ]
        }
      ]
    },
    {
      "cell_type": "code",
      "source": [
        "import pandas as pd\n",
        "\n",
        "# Load the CSV\n",
        "df = pd.read_csv('/content/mental_health_dataset/Combined Data.csv')\n",
        "\n",
        "# Show unique labels in the 'status' column\n",
        "labels = sorted(df['status'].dropna().unique())\n",
        "print(\"Unique labels found in 'status' column:\\n\")\n",
        "for label in labels:\n",
        "    print(f\"- {label}\")"
      ],
      "metadata": {
        "colab": {
          "base_uri": "https://localhost:8080/"
        },
        "id": "S2ak-JB5YUeW",
        "outputId": "2667546f-17d6-4f5d-ca67-49023963194a"
      },
      "execution_count": 8,
      "outputs": [
        {
          "output_type": "stream",
          "name": "stdout",
          "text": [
            "Unique labels found in 'status' column:\n",
            "\n",
            "- Anxiety\n",
            "- Bipolar\n",
            "- Depression\n",
            "- Normal\n",
            "- Personality disorder\n",
            "- Stress\n",
            "- Suicidal\n"
          ]
        }
      ]
    },
    {
      "cell_type": "code",
      "source": [
        "# Random sample of 100 rows\n",
        "sample_df = df.sample(n=100, random_state=42).reset_index(drop=True)"
      ],
      "metadata": {
        "id": "Jr7FqWR1YXKh"
      },
      "execution_count": 9,
      "outputs": []
    },
    {
      "cell_type": "code",
      "source": [
        "sample_df.to_csv('/content/mental_health_dataset/sample_100.csv', index=False)"
      ],
      "metadata": {
        "id": "i2ijd0vOYaHj"
      },
      "execution_count": 10,
      "outputs": []
    },
    {
      "cell_type": "code",
      "source": [
        "import pandas as pd\n",
        "from torch.utils.data import Dataset\n",
        "\n",
        "class MentalHealthDataset(Dataset):\n",
        "    def __init__(self, csv_path):\n",
        "        self.data = pd.read_csv(csv_path)\n",
        "\n",
        "    def __len__(self):\n",
        "        return len(self.data)\n",
        "\n",
        "    def __getitem__(self, idx):\n",
        "        row = self.data.iloc[idx]\n",
        "        return {\n",
        "            \"text\": row[\"statement\"],\n",
        "            \"label\": row.get(\"status\", None)\n",
        "        }"
      ],
      "metadata": {
        "id": "YrEGcNovYgh5"
      },
      "execution_count": 2,
      "outputs": []
    },
    {
      "cell_type": "code",
      "source": [
        "from torch.utils.data import DataLoader\n",
        "\n",
        "dataset = MentalHealthDataset('/content/mental_health_dataset/sample_100.csv')\n",
        "dataloader = DataLoader(dataset, batch_size=8, shuffle=False)"
      ],
      "metadata": {
        "id": "3cVD4HQhYcIi"
      },
      "execution_count": 11,
      "outputs": []
    },
    {
      "cell_type": "markdown",
      "source": [
        "# Evaluate Model Predictions\n",
        "\n",
        "This section defines the evaluation logic for running the classification model over the dataset.\n",
        "\n",
        "- `evaluate_model()` takes a PyTorch `DataLoader`, a base message template, and optional model settings (model name, temperature).\n",
        "- For each batch, it extracts the input texts and labels, sends the prompts through the `run_batch_messages_with_prompts()` function, and collects the responses.\n",
        "- The `extract_answer_tag()` function is used to parse the predicted label from each response.\n",
        "  - It looks for content inside `<answer>...</answer>` tags.\n",
        "  - If multiple labels are returned (comma-separated), it selects the **first one** as the model’s primary classification.\n",
        "- Predictions and ground truth labels are stored and returned for further evaluation.\n",
        "\n",
        "This evaluation pipeline helps measure how well the model performs across various label categories.\n"
      ],
      "metadata": {
        "id": "DpU2M6o9DpP2"
      }
    },
    {
      "cell_type": "code",
      "source": [
        "import re\n",
        "from tqdm import tqdm\n",
        "\n",
        "def evaluate_model(dataloader, base_messages, model=\"gpt-4o-mini\", temperature=0.0):\n",
        "    all_preds = []\n",
        "    all_labels = []\n",
        "\n",
        "    for batch in tqdm(dataloader, desc=\"Evaluating\"):\n",
        "        prompts = batch[\"text\"]\n",
        "        labels = batch.get(\"label\", [None] * len(prompts))  # handles unlabeled test data\n",
        "\n",
        "        # Get model responses\n",
        "        responses = run_batch_messages_with_prompts(\n",
        "            base_messages=base_messages,\n",
        "            prompts=prompts,\n",
        "            model=model,\n",
        "            temperature=temperature\n",
        "        )\n",
        "\n",
        "        # Extract the answer between <answer>...</answer>\n",
        "        preds = [\n",
        "            extract_answer_tag(response) for response in responses\n",
        "        ]\n",
        "\n",
        "        all_preds.extend(preds)\n",
        "        all_labels.extend(labels)\n",
        "\n",
        "    return all_preds, all_labels\n",
        "\n",
        "\n",
        "def extract_answer_tag(text):\n",
        "    match = re.search(r\"<answer>(.*?)</answer>\", text, re.IGNORECASE | re.DOTALL)\n",
        "    if match:\n",
        "        answer_content = match.group(1).strip()\n",
        "        # Handle comma-separated multi-label case\n",
        "        first_label = answer_content.split(\",\")[0].strip()\n",
        "        return first_label\n",
        "    return \"UNKNOWN\"\n"
      ],
      "metadata": {
        "id": "N-XsDrOib88G"
      },
      "execution_count": 12,
      "outputs": []
    },
    {
      "cell_type": "markdown",
      "source": [
        "# Generate and Compare Classification Reports\n",
        "\n",
        "This section evaluates the model using three different prompt formats:\n",
        "\n",
        "1. `base_messages` – A basic few-shot prompt with no reasoning.\n",
        "2. `base_messages_CoT` – A Chain-of-Thought prompt that includes explanations and examples for each class.\n",
        "3. `base_messages_stress_example` – A targeted prompt to help the model better distinguish the \"Stress\" category.\n",
        "\n",
        "For each case:\n",
        "- We call `evaluate_model()` to get the model's predictions.\n",
        "- We use `classification_report()` from scikit-learn to print precision, recall, and F1-score for each label.\n",
        "\n",
        "This comparison helps us analyze which prompt design yields the best overall performance and where the model needs improvement.\n"
      ],
      "metadata": {
        "id": "GaNK_YbzEOYU"
      }
    },
    {
      "cell_type": "code",
      "source": [
        "from sklearn.metrics import classification_report\n",
        "\n",
        "# Run evaluation\n",
        "preds, labels = evaluate_model(dataloader, base_messages)\n",
        "\n",
        "# Print classification report\n",
        "print(\"\\n\", classification_report(labels, preds, digits=3))"
      ],
      "metadata": {
        "colab": {
          "base_uri": "https://localhost:8080/"
        },
        "id": "F8WxuHFwebfY",
        "outputId": "d3fc3edb-f97f-44f8-dcce-0058c2a5bde3"
      },
      "execution_count": 16,
      "outputs": [
        {
          "output_type": "stream",
          "name": "stderr",
          "text": [
            "Evaluating: 100%|██████████| 13/13 [01:16<00:00,  5.90s/it]"
          ]
        },
        {
          "output_type": "stream",
          "name": "stdout",
          "text": [
            "\n",
            "                       precision    recall  f1-score   support\n",
            "\n",
            "             Anxiety      0.300     0.750     0.429         4\n",
            "             Bipolar      0.250     0.500     0.333         2\n",
            "          Depression      0.923     0.333     0.490        36\n",
            "              Normal      0.926     0.806     0.862        31\n",
            "Personality disorder      0.250     1.000     0.400         2\n",
            "              Stress      0.167     0.200     0.182         5\n",
            "            Suicidal      0.562     0.900     0.692        20\n",
            "\n",
            "            accuracy                          0.620       100\n",
            "           macro avg      0.483     0.641     0.484       100\n",
            "        weighted avg      0.762     0.620     0.623       100\n",
            "\n"
          ]
        },
        {
          "output_type": "stream",
          "name": "stderr",
          "text": [
            "\n"
          ]
        }
      ]
    },
    {
      "cell_type": "code",
      "source": [
        "# Run evaluation\n",
        "preds, labels = evaluate_model(dataloader, base_messages_CoT)\n",
        "\n",
        "# Print classification report\n",
        "print(\"\\n\", classification_report(labels, preds, digits=3))"
      ],
      "metadata": {
        "colab": {
          "base_uri": "https://localhost:8080/"
        },
        "id": "9Qjt_VQyiO4k",
        "outputId": "fb602f21-6c30-4799-e182-290bb641898b"
      },
      "execution_count": 18,
      "outputs": [
        {
          "output_type": "stream",
          "name": "stderr",
          "text": [
            "Evaluating: 100%|██████████| 13/13 [03:07<00:00, 14.41s/it]"
          ]
        },
        {
          "output_type": "stream",
          "name": "stdout",
          "text": [
            "\n",
            "                       precision    recall  f1-score   support\n",
            "\n",
            "             Anxiety      0.333     0.750     0.462         4\n",
            "             Bipolar      1.000     0.500     0.667         2\n",
            "          Depression      0.882     0.417     0.566        36\n",
            "              Normal      0.903     0.903     0.903        31\n",
            "Personality disorder      0.200     1.000     0.333         2\n",
            "              Stress      0.250     0.200     0.222         5\n",
            "            Suicidal      0.630     0.850     0.723        20\n",
            "              Trauma      0.000     0.000     0.000         0\n",
            "\n",
            "            accuracy                          0.670       100\n",
            "           macro avg      0.525     0.577     0.485       100\n",
            "        weighted avg      0.773     0.670     0.678       100\n",
            "\n"
          ]
        },
        {
          "output_type": "stream",
          "name": "stderr",
          "text": [
            "\n",
            "/usr/local/lib/python3.11/dist-packages/sklearn/metrics/_classification.py:1565: UndefinedMetricWarning: Recall is ill-defined and being set to 0.0 in labels with no true samples. Use `zero_division` parameter to control this behavior.\n",
            "  _warn_prf(average, modifier, f\"{metric.capitalize()} is\", len(result))\n",
            "/usr/local/lib/python3.11/dist-packages/sklearn/metrics/_classification.py:1565: UndefinedMetricWarning: Recall is ill-defined and being set to 0.0 in labels with no true samples. Use `zero_division` parameter to control this behavior.\n",
            "  _warn_prf(average, modifier, f\"{metric.capitalize()} is\", len(result))\n",
            "/usr/local/lib/python3.11/dist-packages/sklearn/metrics/_classification.py:1565: UndefinedMetricWarning: Recall is ill-defined and being set to 0.0 in labels with no true samples. Use `zero_division` parameter to control this behavior.\n",
            "  _warn_prf(average, modifier, f\"{metric.capitalize()} is\", len(result))\n"
          ]
        }
      ]
    },
    {
      "cell_type": "code",
      "source": [
        "# Run evaluation\n",
        "preds, labels = evaluate_model(dataloader, base_messages_stress_example)\n",
        "\n",
        "# Print classification report\n",
        "print(\"\\n\", classification_report(labels, preds, digits=3))"
      ],
      "metadata": {
        "colab": {
          "base_uri": "https://localhost:8080/"
        },
        "id": "BkDuJVuV1glJ",
        "outputId": "71fefd50-d558-4200-eb8e-8bfeace86d2f"
      },
      "execution_count": 14,
      "outputs": [
        {
          "output_type": "stream",
          "name": "stdout",
          "text": [
            "\n",
            "                       precision    recall  f1-score   support\n",
            "\n",
            "             Anxiety      0.429     0.750     0.545         4\n",
            "             Bipolar      1.000     0.500     0.667         2\n",
            "          Depression      0.828     0.667     0.738        36\n",
            "              Normal      0.875     0.903     0.889        31\n",
            "Personality disorder      0.250     0.500     0.333         2\n",
            "              Stress      0.000     0.000     0.000         5\n",
            "            Suicidal      0.615     0.800     0.696        20\n",
            "\n",
            "            accuracy                          0.730       100\n",
            "           macro avg      0.571     0.589     0.553       100\n",
            "        weighted avg      0.734     0.730     0.722       100\n",
            "\n"
          ]
        }
      ]
    }
  ]
}